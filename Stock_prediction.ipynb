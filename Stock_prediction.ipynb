{
 "cells": [
  {
   "cell_type": "code",
   "execution_count": 1,
   "id": "e79dad21-9a3a-49c2-8562-c33b80516531",
   "metadata": {},
   "outputs": [],
   "source": [
    "import numpy as np\n",
    "import matplotlib.pyplot as plt\n",
    "import pandas as pd\n",
    "import pandas_datareader as web\n",
    "import datetime as dt\n",
    "import warnings\n",
    "warnings.filterwarnings('ignore')\n"
   ]
  },
  {
   "cell_type": "code",
   "execution_count": 2,
   "id": "e02d5ec4-530a-4b57-a79f-88165b3301b9",
   "metadata": {},
   "outputs": [],
   "source": [
    "from sklearn.preprocessing import MinMaxScaler\n",
    "from tensorflow.keras.models import Sequential\n",
    "from tensorflow.keras.layers import Dense, Dropout, LSTM\n"
   ]
  },
  {
   "cell_type": "code",
   "execution_count": 36,
   "id": "ecfb56d5-8374-4fb8-afeb-8771d8378db3",
   "metadata": {},
   "outputs": [],
   "source": [
    "## load data\n",
    "company = 'FB'\n",
    "\n",
    "start = dt.datetime(2012,1,1)\n",
    "end = dt.datetime(2021,1,1)\n",
    "\n",
    "data = web.DataReader(company, 'yahoo', start, end)\n"
   ]
  },
  {
   "cell_type": "code",
   "execution_count": 37,
   "id": "39c7e55c-f1f9-4285-b231-9770e97770b3",
   "metadata": {},
   "outputs": [],
   "source": [
    "# Preprocess data\n",
    "scaler = MinMaxScaler(feature_range=(0,1))\n",
    "scaled_data = scaler.fit_transform(data['Adj Close'].values.reshape(-1,1))"
   ]
  },
  {
   "cell_type": "code",
   "execution_count": 38,
   "id": "bb916176-7588-44a7-96a7-a54e0896661b",
   "metadata": {},
   "outputs": [],
   "source": [
    "## appending data to list \n",
    "prediction_days=60\n",
    "\n",
    "x_train = []\n",
    "y_train = []\n",
    "\n",
    "for x in range(prediction_days, len(scaled_data)):\n",
    "    x_train.append(scaled_data[x-prediction_days:x,0])\n",
    "    y_train.append(scaled_data[x,0])\n",
    "\n",
    "x_train, y_train = np.array(x_train), np.array(y_train)\n",
    "x_train = np.reshape(x_train, (x_train.shape[0], x_train.shape[1],1))   \n",
    "    \n",
    "    \n",
    "    "
   ]
  },
  {
   "cell_type": "markdown",
   "id": "5a4a05b9-2cab-4ff4-ab2f-8d32c0e49b5b",
   "metadata": {},
   "source": [
    "Building Recurrent Neural Network\n",
    "using LTSM (With Keras) and adding dropout after each layer to increase white noise \n",
    "and not overfit the data\n",
    "I am using Adam optimization with square loss function"
   ]
  },
  {
   "cell_type": "code",
   "execution_count": 39,
   "id": "24ef2a51-6bee-4a10-993e-450cc3c2da70",
   "metadata": {},
   "outputs": [
    {
     "name": "stdout",
     "output_type": "stream",
     "text": [
      "Epoch 1/25\n",
      "66/66 [==============================] - 10s 74ms/step - loss: 0.0143\n",
      "Epoch 2/25\n",
      "66/66 [==============================] - 5s 75ms/step - loss: 0.0027\n",
      "Epoch 3/25\n",
      "66/66 [==============================] - 5s 74ms/step - loss: 0.0027\n",
      "Epoch 4/25\n",
      "66/66 [==============================] - 5s 74ms/step - loss: 0.0026\n",
      "Epoch 5/25\n",
      "66/66 [==============================] - 5s 75ms/step - loss: 0.0024\n",
      "Epoch 6/25\n",
      "66/66 [==============================] - 5s 74ms/step - loss: 0.0021\n",
      "Epoch 7/25\n",
      "66/66 [==============================] - 5s 75ms/step - loss: 0.0022\n",
      "Epoch 8/25\n",
      "66/66 [==============================] - 5s 75ms/step - loss: 0.0024\n",
      "Epoch 9/25\n",
      "66/66 [==============================] - 5s 75ms/step - loss: 0.0021\n",
      "Epoch 10/25\n",
      "66/66 [==============================] - 5s 72ms/step - loss: 0.0019\n",
      "Epoch 11/25\n",
      "66/66 [==============================] - 5s 70ms/step - loss: 0.0018\n",
      "Epoch 12/25\n",
      "66/66 [==============================] - 5s 70ms/step - loss: 0.0018\n",
      "Epoch 13/25\n",
      "66/66 [==============================] - 5s 70ms/step - loss: 0.0017: 0s - loss: \n",
      "Epoch 14/25\n",
      "66/66 [==============================] - 5s 72ms/step - loss: 0.0017\n",
      "Epoch 15/25\n",
      "66/66 [==============================] - 5s 69ms/step - loss: 0.0016: 0s - loss: 0 - ETA: 0s - loss:\n",
      "Epoch 16/25\n",
      "66/66 [==============================] - 4s 66ms/step - loss: 0.0015\n",
      "Epoch 17/25\n",
      "66/66 [==============================] - 5s 72ms/step - loss: 0.0017\n",
      "Epoch 18/25\n",
      "66/66 [==============================] - 4s 68ms/step - loss: 0.0015\n",
      "Epoch 19/25\n",
      "66/66 [==============================] - 4s 67ms/step - loss: 0.0015\n",
      "Epoch 20/25\n",
      "66/66 [==============================] - 5s 72ms/step - loss: 0.0016\n",
      "Epoch 21/25\n",
      "66/66 [==============================] - 5s 75ms/step - loss: 0.0013\n",
      "Epoch 22/25\n",
      "66/66 [==============================] - 5s 70ms/step - loss: 0.0013\n",
      "Epoch 23/25\n",
      "66/66 [==============================] - 5s 80ms/step - loss: 0.0012\n",
      "Epoch 24/25\n",
      "66/66 [==============================] - 6s 84ms/step - loss: 0.0016\n",
      "Epoch 25/25\n",
      "66/66 [==============================] - 5s 78ms/step - loss: 0.0013\n"
     ]
    },
    {
     "data": {
      "text/plain": [
       "<tensorflow.python.keras.callbacks.History at 0x1cbf94371f0>"
      ]
     },
     "execution_count": 39,
     "metadata": {},
     "output_type": "execute_result"
    }
   ],
   "source": [
    "## build and train the model\n",
    "## LTSM rnn model with 3 hidden layers\n",
    "## \n",
    "model = Sequential()\n",
    "\n",
    "model.add(LSTM(units=50, return_sequences=True, input_shape=(x_train.shape[1],1)))\n",
    "model.add(Dropout(0.2))\n",
    "model.add(LSTM(units=50, return_sequences=True))\n",
    "model.add(Dropout(0.2))\n",
    "model.add(LSTM(units=50))\n",
    "model.add(Dropout(0.2))\n",
    "model.add(Dense(units=1))\n",
    "\n",
    "# using adam optimization and loss fuction of mean squre error\n",
    "model.compile(optimizer='adam', loss='mean_squared_error')\n",
    "model.fit(x_train, y_train, epochs=25, batch_size=32)\n"
   ]
  },
  {
   "cell_type": "code",
   "execution_count": 30,
   "id": "f6fb0343-1c6a-4cec-a884-02bb3b36a221",
   "metadata": {},
   "outputs": [],
   "source": [
    "## testing model accuracy \n",
    "# load test data\n",
    "\n",
    "test_start = dt.datetime(2021,1,2)\n",
    "test_end = dt.datetime(2021,5,6)\n",
    "\n",
    "test_data = web.DataReader(company, 'yahoo', test_start, test_end)\n",
    "actual_prices = test_data['Adj Close'].values\n",
    "\n",
    "total_dataset = pd.concat((data['Adj Close'],test_data['Adj Close']), axis=0)\n",
    "\n",
    "model_inputs = total_dataset[len(total_dataset) - len(test_data) - prediction_days:].values\n",
    "model_inputs = model_inputs.reshape(-1, 1)\n",
    "model_inputs = scaler.transform(model_inputs)\n",
    "\n"
   ]
  },
  {
   "cell_type": "code",
   "execution_count": 31,
   "id": "2c2c2be6-d59b-4749-97e0-e037525812ba",
   "metadata": {},
   "outputs": [],
   "source": [
    "# make predictions on Test Data\n",
    "\n",
    "x_test = []\n",
    "\n",
    "for x in range(prediction_days, len(model_inputs)):\n",
    "    x_test.append(model_inputs[x-prediction_days:x, 0])\n",
    "\n",
    "x_test = np.array(x_test)\n",
    "x_test = np.reshape(x_test, (x_test.shape[0], x_test.shape[1], 1))\n",
    "\n",
    "predicted_prices = model.predict(x_test)\n",
    "predicted_prices = scaler.inverse_transform(predicted_prices.reshape(-1,1))\n",
    "\n"
   ]
  },
  {
   "cell_type": "code",
   "execution_count": 32,
   "id": "b10c8676-fe18-4754-a6b6-aa0f1278ca69",
   "metadata": {},
   "outputs": [
    {
     "data": {
      "image/png": "[encoded data removed]",
      "text/plain": [
       "<Figure size 432x288 with 1 Axes>"
      ]
     },
     "metadata": {
      "needs_background": "light"
     },
     "output_type": "display_data"
    }
   ],
   "source": [
    "plt.plot(actual_prices, color=\"black\" , label=f\"Actual Facebook Price\")\n",
    "plt.plot(predicted_prices, color=\"green\", label=f\"Predicted Facebook Price\")\n",
    "plt.title(f\"Facebook share Price\")\n",
    "plt.xlabel('Title')\n",
    "plt.ylabel(f'Share Price')\n",
    "plt.legend()\n",
    "plt.show()"
   ]
  },
  {
   "cell_type": "code",
   "execution_count": 33,
   "id": "f05a6b77-621c-4c17-81ee-e9ee8f289d84",
   "metadata": {},
   "outputs": [],
   "source": [
    "#predict next day\n",
    "real_data = [model_inputs[len(model_inputs)+1-prediction_days:len(model_inputs)+1,0]]\n",
    "real_data = np.array(real_data)\n",
    "real_data = np.reshape(real_data, (real_data.shape[0],real_data.shape[1],1))"
   ]
  },
  {
   "cell_type": "code",
   "execution_count": 35,
   "id": "01f38be6-dff9-4eab-8f7b-1efa199fae3a",
   "metadata": {},
   "outputs": [
    {
     "name": "stdout",
     "output_type": "stream",
     "text": [
      "Prediction for tomorrow :[[219.47633]]\n"
     ]
    }
   ],
   "source": [
    "prediction = model.predict(real_data)\n",
    "prediction = scaler.inverse_transform(prediction)\n",
    "print(f\"Prediction for tomorrow :{prediction}\")"
   ]
  },
  {
   "cell_type": "code",
   "execution_count": null,
   "id": "7aa3369f-8680-4fb2-a417-f94075e25b7f",
   "metadata": {},
   "outputs": [],
   "source": []
  }
 ],
 "metadata": {
  "kernelspec": {
   "display_name": "Python 3",
   "language": "python",
   "name": "python3"
  },
  "language_info": {
   "codemirror_mode": {
    "name": "ipython",
    "version": 3
   },
   "file_extension": ".py",
   "mimetype": "text/x-python",
   "name": "python",
   "nbconvert_exporter": "python",
   "pygments_lexer": "ipython3",
   "version": "3.8.8"
  }
 },
 "nbformat": 4,
 "nbformat_minor": 5
}
